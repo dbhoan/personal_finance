{
 "cells": [
  {
   "cell_type": "code",
   "execution_count": 1,
   "metadata": {
    "scrolled": false
   },
   "outputs": [
    {
     "data": {
      "text/html": [
       "<script>requirejs.config({paths: { 'plotly': ['https://cdn.plot.ly/plotly-latest.min']},});if(!window.Plotly) {{require(['plotly'],function(plotly) {window.Plotly=plotly;});}}</script>"
      ],
      "text/vnd.plotly.v1+html": [
       "<script>requirejs.config({paths: { 'plotly': ['https://cdn.plot.ly/plotly-latest.min']},});if(!window.Plotly) {{require(['plotly'],function(plotly) {window.Plotly=plotly;});}}</script>"
      ]
     },
     "metadata": {},
     "output_type": "display_data"
    },
    {
     "data": {
      "text/html": [
       "<script>code_show=true;function code_toggle(){if(code_show){$('div.input').hide();}else{$('div.input').show();} \n",
       "code_show=!code_show}$(document).ready(code_toggle);</script><a onClick=\"code_toggle()\">Show / hide input code</a>\n",
       "<script>require([\"base/js/namespace\",\"jquery\"],function(a,b){b(a.events).on(\"kernel_ready.Kernel\",function()\n",
       "{a.actions.call(\"jupyter-notebook:run-all-cells-below\")})});</script>"
      ],
      "text/plain": [
       "<IPython.core.display.HTML object>"
      ]
     },
     "execution_count": 1,
     "metadata": {},
     "output_type": "execute_result"
    }
   ],
   "source": [
    "# run this first to enable plotly offline plotting, then plot in a separate cell, else might get blank plots after saving\n",
    "from plotly.offline import iplot, init_notebook_mode\n",
    "init_notebook_mode(connected=True)\n",
    "\n",
    "from IPython.display import HTML # scripts to hide input code and to autorun all cells at startup\n",
    "HTML('''<script>code_show=true;function code_toggle(){if(code_show){$('div.input').hide();}else{$('div.input').show();} \n",
    "code_show=!code_show}$(document).ready(code_toggle);</script><a onClick=\"code_toggle()\">Show / hide input code</a>\n",
    "<script>require([\"base/js/namespace\",\"jquery\"],function(a,b){b(a.events).on(\"kernel_ready.Kernel\",function()\n",
    "{a.actions.call(\"jupyter-notebook:run-all-cells-below\")})});</script>''')"
   ]
  },
  {
   "cell_type": "code",
   "execution_count": 2,
   "metadata": {},
   "outputs": [
    {
     "ename": "IOError",
     "evalue": "File dataJ_merged.csv does not exist",
     "output_type": "error",
     "traceback": [
      "\u001b[0;31m---------------------------------------------------------------------------\u001b[0m",
      "\u001b[0;31mIOError\u001b[0m                                   Traceback (most recent call last)",
      "\u001b[0;32m<ipython-input-2-28e8c1c8e6e2>\u001b[0m in \u001b[0;36m<module>\u001b[0;34m()\u001b[0m\n\u001b[1;32m      8\u001b[0m \u001b[0mcols_acc_info\u001b[0m \u001b[1;33m=\u001b[0m \u001b[1;33m[\u001b[0m\u001b[1;34m'Account'\u001b[0m\u001b[1;33m,\u001b[0m\u001b[1;34m'Type'\u001b[0m\u001b[1;33m,\u001b[0m\u001b[1;34m'Currency'\u001b[0m\u001b[1;33m]\u001b[0m\u001b[1;33m\u001b[0m\u001b[0m\n\u001b[1;32m      9\u001b[0m \u001b[0mcol_bal\u001b[0m \u001b[1;33m=\u001b[0m \u001b[1;34m'BalanceEOD_CAD'\u001b[0m\u001b[1;33m\u001b[0m\u001b[0m\n\u001b[0;32m---> 10\u001b[0;31m \u001b[0mdata\u001b[0m \u001b[1;33m=\u001b[0m \u001b[0mpd\u001b[0m\u001b[1;33m.\u001b[0m\u001b[0mread_csv\u001b[0m\u001b[1;33m(\u001b[0m\u001b[1;34m'dataJ_merged.csv'\u001b[0m\u001b[1;33m,\u001b[0m \u001b[0musecols\u001b[0m \u001b[1;33m=\u001b[0m \u001b[1;33m[\u001b[0m\u001b[1;34m'Date'\u001b[0m\u001b[1;33m]\u001b[0m\u001b[1;33m+\u001b[0m\u001b[0mcols_acc_info\u001b[0m\u001b[1;33m+\u001b[0m\u001b[1;33m[\u001b[0m\u001b[0mcol_bal\u001b[0m\u001b[1;33m]\u001b[0m\u001b[1;33m)\u001b[0m\u001b[1;33m\u001b[0m\u001b[0m\n\u001b[0m\u001b[1;32m     11\u001b[0m \u001b[0mdata\u001b[0m\u001b[1;33m[\u001b[0m\u001b[1;34m'Date'\u001b[0m\u001b[1;33m]\u001b[0m \u001b[1;33m=\u001b[0m \u001b[0mpd\u001b[0m\u001b[1;33m.\u001b[0m\u001b[0mto_datetime\u001b[0m\u001b[1;33m(\u001b[0m\u001b[0mdata\u001b[0m\u001b[1;33m[\u001b[0m\u001b[1;34m'Date'\u001b[0m\u001b[1;33m]\u001b[0m\u001b[1;33m.\u001b[0m\u001b[0mastype\u001b[0m\u001b[1;33m(\u001b[0m\u001b[0mstr\u001b[0m\u001b[1;33m)\u001b[0m\u001b[1;33m)\u001b[0m\u001b[1;33m\u001b[0m\u001b[0m\n\u001b[1;32m     12\u001b[0m \u001b[0mdata\u001b[0m \u001b[1;33m=\u001b[0m \u001b[0mdata\u001b[0m\u001b[1;33m.\u001b[0m\u001b[0mdrop_duplicates\u001b[0m\u001b[1;33m(\u001b[0m\u001b[1;33m)\u001b[0m\u001b[1;33m\u001b[0m\u001b[0m\n",
      "\u001b[0;32mC:\\Anaconda\\lib\\site-packages\\pandas\\io\\parsers.pyc\u001b[0m in \u001b[0;36mparser_f\u001b[0;34m(filepath_or_buffer, sep, delimiter, header, names, index_col, usecols, squeeze, prefix, mangle_dupe_cols, dtype, engine, converters, true_values, false_values, skipinitialspace, skiprows, nrows, na_values, keep_default_na, na_filter, verbose, skip_blank_lines, parse_dates, infer_datetime_format, keep_date_col, date_parser, dayfirst, iterator, chunksize, compression, thousands, decimal, lineterminator, quotechar, quoting, escapechar, comment, encoding, dialect, tupleize_cols, error_bad_lines, warn_bad_lines, skipfooter, skip_footer, doublequote, delim_whitespace, as_recarray, compact_ints, use_unsigned, low_memory, buffer_lines, memory_map, float_precision)\u001b[0m\n\u001b[1;32m    644\u001b[0m                     skip_blank_lines=skip_blank_lines)\n\u001b[1;32m    645\u001b[0m \u001b[1;33m\u001b[0m\u001b[0m\n\u001b[0;32m--> 646\u001b[0;31m         \u001b[1;32mreturn\u001b[0m \u001b[0m_read\u001b[0m\u001b[1;33m(\u001b[0m\u001b[0mfilepath_or_buffer\u001b[0m\u001b[1;33m,\u001b[0m \u001b[0mkwds\u001b[0m\u001b[1;33m)\u001b[0m\u001b[1;33m\u001b[0m\u001b[0m\n\u001b[0m\u001b[1;32m    647\u001b[0m \u001b[1;33m\u001b[0m\u001b[0m\n\u001b[1;32m    648\u001b[0m     \u001b[0mparser_f\u001b[0m\u001b[1;33m.\u001b[0m\u001b[0m__name__\u001b[0m \u001b[1;33m=\u001b[0m \u001b[0mname\u001b[0m\u001b[1;33m\u001b[0m\u001b[0m\n",
      "\u001b[0;32mC:\\Anaconda\\lib\\site-packages\\pandas\\io\\parsers.pyc\u001b[0m in \u001b[0;36m_read\u001b[0;34m(filepath_or_buffer, kwds)\u001b[0m\n\u001b[1;32m    387\u001b[0m \u001b[1;33m\u001b[0m\u001b[0m\n\u001b[1;32m    388\u001b[0m     \u001b[1;31m# Create the parser.\u001b[0m\u001b[1;33m\u001b[0m\u001b[1;33m\u001b[0m\u001b[0m\n\u001b[0;32m--> 389\u001b[0;31m     \u001b[0mparser\u001b[0m \u001b[1;33m=\u001b[0m \u001b[0mTextFileReader\u001b[0m\u001b[1;33m(\u001b[0m\u001b[0mfilepath_or_buffer\u001b[0m\u001b[1;33m,\u001b[0m \u001b[1;33m**\u001b[0m\u001b[0mkwds\u001b[0m\u001b[1;33m)\u001b[0m\u001b[1;33m\u001b[0m\u001b[0m\n\u001b[0m\u001b[1;32m    390\u001b[0m \u001b[1;33m\u001b[0m\u001b[0m\n\u001b[1;32m    391\u001b[0m     \u001b[1;32mif\u001b[0m \u001b[1;33m(\u001b[0m\u001b[0mnrows\u001b[0m \u001b[1;32mis\u001b[0m \u001b[1;32mnot\u001b[0m \u001b[0mNone\u001b[0m\u001b[1;33m)\u001b[0m \u001b[1;32mand\u001b[0m \u001b[1;33m(\u001b[0m\u001b[0mchunksize\u001b[0m \u001b[1;32mis\u001b[0m \u001b[1;32mnot\u001b[0m \u001b[0mNone\u001b[0m\u001b[1;33m)\u001b[0m\u001b[1;33m:\u001b[0m\u001b[1;33m\u001b[0m\u001b[0m\n",
      "\u001b[0;32mC:\\Anaconda\\lib\\site-packages\\pandas\\io\\parsers.pyc\u001b[0m in \u001b[0;36m__init__\u001b[0;34m(self, f, engine, **kwds)\u001b[0m\n\u001b[1;32m    728\u001b[0m             \u001b[0mself\u001b[0m\u001b[1;33m.\u001b[0m\u001b[0moptions\u001b[0m\u001b[1;33m[\u001b[0m\u001b[1;34m'has_index_names'\u001b[0m\u001b[1;33m]\u001b[0m \u001b[1;33m=\u001b[0m \u001b[0mkwds\u001b[0m\u001b[1;33m[\u001b[0m\u001b[1;34m'has_index_names'\u001b[0m\u001b[1;33m]\u001b[0m\u001b[1;33m\u001b[0m\u001b[0m\n\u001b[1;32m    729\u001b[0m \u001b[1;33m\u001b[0m\u001b[0m\n\u001b[0;32m--> 730\u001b[0;31m         \u001b[0mself\u001b[0m\u001b[1;33m.\u001b[0m\u001b[0m_make_engine\u001b[0m\u001b[1;33m(\u001b[0m\u001b[0mself\u001b[0m\u001b[1;33m.\u001b[0m\u001b[0mengine\u001b[0m\u001b[1;33m)\u001b[0m\u001b[1;33m\u001b[0m\u001b[0m\n\u001b[0m\u001b[1;32m    731\u001b[0m \u001b[1;33m\u001b[0m\u001b[0m\n\u001b[1;32m    732\u001b[0m     \u001b[1;32mdef\u001b[0m \u001b[0mclose\u001b[0m\u001b[1;33m(\u001b[0m\u001b[0mself\u001b[0m\u001b[1;33m)\u001b[0m\u001b[1;33m:\u001b[0m\u001b[1;33m\u001b[0m\u001b[0m\n",
      "\u001b[0;32mC:\\Anaconda\\lib\\site-packages\\pandas\\io\\parsers.pyc\u001b[0m in \u001b[0;36m_make_engine\u001b[0;34m(self, engine)\u001b[0m\n\u001b[1;32m    921\u001b[0m     \u001b[1;32mdef\u001b[0m \u001b[0m_make_engine\u001b[0m\u001b[1;33m(\u001b[0m\u001b[0mself\u001b[0m\u001b[1;33m,\u001b[0m \u001b[0mengine\u001b[0m\u001b[1;33m=\u001b[0m\u001b[1;34m'c'\u001b[0m\u001b[1;33m)\u001b[0m\u001b[1;33m:\u001b[0m\u001b[1;33m\u001b[0m\u001b[0m\n\u001b[1;32m    922\u001b[0m         \u001b[1;32mif\u001b[0m \u001b[0mengine\u001b[0m \u001b[1;33m==\u001b[0m \u001b[1;34m'c'\u001b[0m\u001b[1;33m:\u001b[0m\u001b[1;33m\u001b[0m\u001b[0m\n\u001b[0;32m--> 923\u001b[0;31m             \u001b[0mself\u001b[0m\u001b[1;33m.\u001b[0m\u001b[0m_engine\u001b[0m \u001b[1;33m=\u001b[0m \u001b[0mCParserWrapper\u001b[0m\u001b[1;33m(\u001b[0m\u001b[0mself\u001b[0m\u001b[1;33m.\u001b[0m\u001b[0mf\u001b[0m\u001b[1;33m,\u001b[0m \u001b[1;33m**\u001b[0m\u001b[0mself\u001b[0m\u001b[1;33m.\u001b[0m\u001b[0moptions\u001b[0m\u001b[1;33m)\u001b[0m\u001b[1;33m\u001b[0m\u001b[0m\n\u001b[0m\u001b[1;32m    924\u001b[0m         \u001b[1;32melse\u001b[0m\u001b[1;33m:\u001b[0m\u001b[1;33m\u001b[0m\u001b[0m\n\u001b[1;32m    925\u001b[0m             \u001b[1;32mif\u001b[0m \u001b[0mengine\u001b[0m \u001b[1;33m==\u001b[0m \u001b[1;34m'python'\u001b[0m\u001b[1;33m:\u001b[0m\u001b[1;33m\u001b[0m\u001b[0m\n",
      "\u001b[0;32mC:\\Anaconda\\lib\\site-packages\\pandas\\io\\parsers.pyc\u001b[0m in \u001b[0;36m__init__\u001b[0;34m(self, src, **kwds)\u001b[0m\n\u001b[1;32m   1388\u001b[0m         \u001b[0mkwds\u001b[0m\u001b[1;33m[\u001b[0m\u001b[1;34m'allow_leading_cols'\u001b[0m\u001b[1;33m]\u001b[0m \u001b[1;33m=\u001b[0m \u001b[0mself\u001b[0m\u001b[1;33m.\u001b[0m\u001b[0mindex_col\u001b[0m \u001b[1;32mis\u001b[0m \u001b[1;32mnot\u001b[0m \u001b[0mFalse\u001b[0m\u001b[1;33m\u001b[0m\u001b[0m\n\u001b[1;32m   1389\u001b[0m \u001b[1;33m\u001b[0m\u001b[0m\n\u001b[0;32m-> 1390\u001b[0;31m         \u001b[0mself\u001b[0m\u001b[1;33m.\u001b[0m\u001b[0m_reader\u001b[0m \u001b[1;33m=\u001b[0m \u001b[0m_parser\u001b[0m\u001b[1;33m.\u001b[0m\u001b[0mTextReader\u001b[0m\u001b[1;33m(\u001b[0m\u001b[0msrc\u001b[0m\u001b[1;33m,\u001b[0m \u001b[1;33m**\u001b[0m\u001b[0mkwds\u001b[0m\u001b[1;33m)\u001b[0m\u001b[1;33m\u001b[0m\u001b[0m\n\u001b[0m\u001b[1;32m   1391\u001b[0m \u001b[1;33m\u001b[0m\u001b[0m\n\u001b[1;32m   1392\u001b[0m         \u001b[1;31m# XXX\u001b[0m\u001b[1;33m\u001b[0m\u001b[1;33m\u001b[0m\u001b[0m\n",
      "\u001b[0;32mpandas\\parser.pyx\u001b[0m in \u001b[0;36mpandas.parser.TextReader.__cinit__ (pandas\\parser.c:4184)\u001b[0;34m()\u001b[0m\n",
      "\u001b[0;32mpandas\\parser.pyx\u001b[0m in \u001b[0;36mpandas.parser.TextReader._setup_parser_source (pandas\\parser.c:8449)\u001b[0;34m()\u001b[0m\n",
      "\u001b[0;31mIOError\u001b[0m: File dataJ_merged.csv does not exist"
     ]
    }
   ],
   "source": [
    "import pandas as pd\n",
    "import plotly.graph_objs as go\n",
    "from ipywidgets import *\n",
    "from IPython.display import display, clear_output\n",
    "from time import time\n",
    "\n",
    "# load data from file\n",
    "cols_acc_info = ['Account','Type','Currency']\n",
    "col_bal = 'BalanceEOD_CAD'\n",
    "data = pd.read_csv('data_merged.csv', usecols = ['Date']+cols_acc_info+[col_bal])\n",
    "data['Date'] = pd.to_datetime(data['Date'].astype(str))\n",
    "data = data.drop_duplicates()\n",
    "data = data.sort_values('Date') # required for merge_asof later\n",
    "\n",
    "start = data['Date'].min() # min date of all accounts\n",
    "end = data['Date'].max() # max date of all accounts\n",
    "delta = (end-start).days\n",
    "\n",
    "acc_info = data[cols_acc_info].drop_duplicates().set_index('Account') # account information\n",
    "acc_info = acc_info.assign(k=acc_info.index.str.lower()).sort_values('k').drop('k',1) # sort by account names in lowercase\n",
    "acc_info['All'] = acc_info.index + acc_info['Type'] + acc_info['Currency'] # combine all info (for searching purpose)\n",
    "g_date = data.groupby('Account')['Date']\n",
    "acc_info['Date_min'] = g_date.first() # first date for each account\n",
    "acc_info['Date_max'] = g_date.last() # last date for each account\n",
    "acc_names = acc_info.index.tolist() # list of all account names\n",
    "\n",
    "current_filter = '' # filter string, to be updated from the search box\n",
    "acc_names_f = acc_names # filtered account names, to be updated on_submit of search box\n",
    "data_f = data # filtered accounts' data, to be updated on_submit of search box\n",
    "\n",
    "# lookup table for frequency options\n",
    "freq = pd.DataFrame({'code':['1D','2D','3D','4D','5D','W','SMS','MS','QS','Q','AS','A'],\n",
    "                     'unit':['days']*8 + ['months']*4,\n",
    "                     'upto':[1, 1, 2, 3, 4, 6, 14, 30, 2, 0, 11, 0]}, \n",
    "                     index= ['1 day','2 days','3 days','4 days','5 days','week', 'semi-month',\n",
    "                             'month','quarter','quarter-end','year','year-end'])\n",
    "# style for plot\n",
    "colors = ['#1F77B4','#FF7F0E','#2CA02C','#D62728','#9575D2','#8C564B','#E377C0','#7F7F7F','#F9D00F','#17BECF',\n",
    "          '#295BA7','#FC993C','#1B8057','#B90B0B','#8C54A1','#779977','#F0AE2C','#55A44E','#35BCBF','#FF9898']\n",
    "acc_info['Color'] = ((len(acc_info)/len(colors) + 1)*colors)[0:len(acc_info)] # assign colors to accounts (repeat if needed)\n",
    "plot_layout = go.Layout(width=980,height=450,margin=go.Margin(l=50,r=215,b=50,t=0,pad=4),hovermode='closest',showlegend=True)\n",
    "line_total = dict(shape='linear', width=1.5, color='#1F77B4') # line style for the total line\n",
    "def line_style(color_code): return dict(shape='linear', width=1, color=color_code)\n",
    "\n",
    "def int2date(x): return start + pd.DateOffset(x)\n",
    "def int2datestr(x): return int2date(x).strftime('%Y-%m-%d')\n",
    "def date2str(d): return d.strftime('%Y-%m-%d')\n",
    "\n",
    "def width(x): return dict(width=str(x)+'px')\n",
    "def widthleft(x,y): return dict(width=str(x)+'px',left=str(y)+'px')\n",
    "def space(x): return Label(layout=width(x))\n",
    "\n",
    "def update_plot():\n",
    "    t0 = time()\n",
    "    \n",
    "    # clear previous plot (wait for new output before clearing)\n",
    "    clear_output(wait=True)\n",
    "\n",
    "    # generate reporting dates\n",
    "    shift = pd.DateOffset(months=wOffset.value) if freq['unit'][wFreq.value]=='months' else pd.DateOffset(days=wOffset.value)\n",
    "    dates = pd.date_range(int2date(wRange.value[0]),int2date(wRange.value[1]),freq=freq['code'][wFreq.value]) + shift\n",
    "    dates = pd.DataFrame(dates,columns=['Date'])\n",
    "    if len(dates)==0: return\n",
    "    \n",
    "    # prepare plot data on reporting dates\n",
    "    accs = pd.DataFrame(acc_names_f, columns=['Account'])\n",
    "    base = pd.merge(dates.assign(k=0), accs.assign(k=0), on='k').drop('k',1) # broadcast dates to all accounts\n",
    "    base = base.join(acc_info[['Date_min','Date_max']], on='Account') # add columns 'Date_min' and 'Date_max'\n",
    "    base = base[(base['Date']>=base['Date_min']) & (base['Date']<=base['Date_max'])] # remove dates out of min-max range\n",
    "    base = base.drop(['Date_min','Date_max'], axis=1)\n",
    "    plot_data = pd.merge_asof(base,data_f,on='Date',by='Account').fillna(0) # merge nearest balance to base dates\n",
    "    plot_accs = sorted(base['Account'].drop_duplicates().tolist(), key=lambda s: s.lower()) # name of accounts to plot\n",
    "    if len(plot_accs)==0: return\n",
    "    \n",
    "    # calculate total and make plot\n",
    "    g = plot_data.groupby('Account')\n",
    "    traces = [go.Scatter(x = g.get_group(a)['Date'].tolist(), y = g.get_group(a)[col_bal].tolist(), name = a,\n",
    "                         fill='tozeroy',mode='lines',line=line_style(acc_info['Color'][a])) for a in plot_accs]\n",
    "    if wTotal.value == True:\n",
    "        y_total = plot_data.groupby('Date')[col_bal].sum().tolist()\n",
    "        x_total = plot_data['Date'].drop_duplicates().tolist()\n",
    "        traces += [go.Scatter(x=x_total,y=y_total,name='Total balance',mode='lines',line=line_total)]\n",
    "    fig = go.Figure(data=traces,layout=plot_layout)\n",
    "    iplot(fig)\n",
    "    #print 'Load time: {:.2f}s'.format(time()-t0)\n",
    "\n",
    "def wRange_move(x):\n",
    "    wStart.value = int2datestr(wRange.value[0])\n",
    "    wEnd.value = int2datestr(wRange.value[1])\n",
    "    update_plot()\n",
    "def wStart_submit(x):\n",
    "    try:\n",
    "        newstart = max(pd.to_datetime(wStart.value),start)\n",
    "        wStart.value = date2str(newstart)\n",
    "        wRange.value = [(newstart-start).days,wRange.value[1]]\n",
    "    except:\n",
    "        wStart.value = int2datestr(wRange.value[0])\n",
    "def wEnd_submit(x):\n",
    "    try:\n",
    "        newend = min(pd.to_datetime(wEnd.value),end)\n",
    "        wEnd.value = date2str(newend)\n",
    "        wRange.value = [wRange.value[0],(newend-start).days]\n",
    "    except:\n",
    "        wEnd.value = int2datestr(wRange.value[1])\n",
    "def wFreq_move(x):\n",
    "    wOffset.value = 0\n",
    "    wOffset.max = freq['upto'][wFreq.value]\n",
    "    wOffset.min = -freq['upto'][wFreq.value]\n",
    "    l5.value = 'shift ('+ freq['unit'][wFreq.value] +')'\n",
    "    update_plot()    \n",
    "def wOffset_move(x):\n",
    "    update_plot()\n",
    "def wFilter_submit(x):\n",
    "    global current_filter, acc_names_f, data_f\n",
    "    current_filter = wFilter.value.strip()\n",
    "    words = current_filter.split()\n",
    "    acc_names_f = [a for a in acc_names if all(w in acc_info['All'][a] for w in words)] if len(words)>0 else acc_names\n",
    "    data_f = data[data['Account'].isin(acc_names_f)]\n",
    "    update_plot()\n",
    "def wClear_click(x):\n",
    "    wFilter.value = ''\n",
    "    if current_filter != '':\n",
    "        wFilter_submit(x)\n",
    "def wTotal_click(x):\n",
    "    update_plot()\n",
    "\n",
    "# create widgets\n",
    "wRange = IntRangeSlider(value=[0,delta],min=0,max=delta,readout=False,continuous_update=False,layout=width(380))\n",
    "wStart = Text(value = date2str(start),layout=width(87))\n",
    "wEnd = Text(value = date2str(end),layout=width(87))\n",
    "wFreq = widgets.SelectionSlider(value='week',options=freq.index.tolist(),continuous_update=False,layout=width(300))\n",
    "wOffset = IntSlider(min=-1,max=1,continuous_update=False,layout=width(240))\n",
    "wFilter = Text(placeholder='Search by name, type etc.',layout=width(180))\n",
    "wClear = Button(description='x',layout=width(25),button_style='success')\n",
    "wTotal = Checkbox(value=True,layout=width(30))\n",
    "\n",
    "# specify widgets' responses\n",
    "wRange.observe(wRange_move,'value')\n",
    "wStart.on_submit(wStart_submit)\n",
    "wEnd.on_submit(wEnd_submit)\n",
    "wFreq.observe(wFreq_move,'value')\n",
    "wOffset.observe(wOffset_move,'value')\n",
    "wFilter.on_submit(wFilter_submit)\n",
    "wClear.on_click(wClear_click)\n",
    "wTotal.observe(wTotal_click,'value')\n",
    "\n",
    "# text labels\n",
    "l1 = Label('Date range', layout=width(70))\n",
    "l2 = Label('from', layout=widthleft(40,10))\n",
    "l3 = Label('to', layout=widthleft(26,8))\n",
    "l4 = Label('Frequency', layout=width(70))\n",
    "l5 = Label('shift (days)', layout=widthleft(115,30))\n",
    "l6 = Label('Search', layout=width(50))\n",
    "l7 = Label('show total balance', layout=width(150))\n",
    "\n",
    "# display widgets in box containers\n",
    "box1 = Box(children=[l1,wRange,l2,wStart,l3,wEnd,space(70),wFilter,wClear], layout=Layout(display='flex', width='100%'))\n",
    "box2 = Box(children=[l4,wFreq,l5,wOffset,space(36),wTotal,l7], layout=box1.layout)\n",
    "display(box1, box2)\n",
    "\n",
    "update_plot()"
   ]
  }
 ],
 "metadata": {
  "kernelspec": {
   "display_name": "Python 2",
   "language": "python",
   "name": "python2"
  },
  "language_info": {
   "codemirror_mode": {
    "name": "ipython",
    "version": 2
   },
   "file_extension": ".py",
   "mimetype": "text/x-python",
   "name": "python",
   "nbconvert_exporter": "python",
   "pygments_lexer": "ipython2",
   "version": "2.7.13"
  },
  "widgets": {
   "application/vnd.jupyter.widget-state+json": {
    "state": {
     "067382d6f075477eb9c7b81810aba10a": {
      "model_module": "jupyter-js-widgets",
      "model_module_version": "~2.1.4",
      "model_name": "LayoutModel",
      "state": {
       "_model_module_version": "~2.1.4",
       "_view_module_version": "~2.1.4",
       "width": "70px"
      }
     },
     "0a65d505003a40c0b60b3c6d45eeced5": {
      "model_module": "jupyter-js-widgets",
      "model_module_version": "~2.1.4",
      "model_name": "LayoutModel",
      "state": {
       "_model_module_version": "~2.1.4",
       "_view_module_version": "~2.1.4",
       "width": "25px"
      }
     },
     "0b50691b70464c86a456081b2ad755a5": {
      "model_module": "jupyter-js-widgets",
      "model_module_version": "~2.1.4",
      "model_name": "LabelModel",
      "state": {
       "_model_module_version": "~2.1.4",
       "_view_module_version": "~2.1.4",
       "layout": "IPY_MODEL_afd6ec883ab1475fbb803810a07f0b18",
       "value": "shift (days)"
      }
     },
     "12b7b77a93d3451291e8886af6073b4b": {
      "model_module": "jupyter-js-widgets",
      "model_module_version": "~2.1.4",
      "model_name": "LayoutModel",
      "state": {
       "_model_module_version": "~2.1.4",
       "_view_module_version": "~2.1.4",
       "width": "70px"
      }
     },
     "19912b604507475c8cd36246a8598d43": {
      "model_module": "jupyter-js-widgets",
      "model_module_version": "~2.1.4",
      "model_name": "TextModel",
      "state": {
       "_model_module_version": "~2.1.4",
       "_view_module_version": "~2.1.4",
       "layout": "IPY_MODEL_c66e425d9de549f584ae55f51d51849e",
       "value": "2012-04-11"
      }
     },
     "1a36515d787a4240a06563893660e1b9": {
      "model_module": "jupyter-js-widgets",
      "model_module_version": "~2.1.4",
      "model_name": "LabelModel",
      "state": {
       "_model_module_version": "~2.1.4",
       "_view_module_version": "~2.1.4",
       "layout": "IPY_MODEL_c0e7266836eb4a24afbbdb76203735a3",
       "value": "show total balance"
      }
     },
     "1d32af5fdc004915a3af47a9ba71ed52": {
      "model_module": "jupyter-js-widgets",
      "model_module_version": "~2.1.4",
      "model_name": "SliderStyleModel",
      "state": {
       "_model_module_version": "~2.1.4",
       "_view_module_version": "~2.1.4"
      }
     },
     "1d9ed6fdc9f74e45b32ae96318ad6fc7": {
      "model_module": "jupyter-js-widgets",
      "model_module_version": "~2.1.4",
      "model_name": "LabelModel",
      "state": {
       "_model_module_version": "~2.1.4",
       "_view_module_version": "~2.1.4",
       "layout": "IPY_MODEL_067382d6f075477eb9c7b81810aba10a",
       "value": "Date range"
      }
     },
     "21484b571f2a4648a2d5b7aa7d4f7cb3": {
      "model_module": "jupyter-js-widgets",
      "model_module_version": "~2.1.4",
      "model_name": "BoxModel",
      "state": {
       "_model_module_version": "~2.1.4",
       "_view_module_version": "~2.1.4",
       "children": [
        "IPY_MODEL_bf84561a6d2c4550a4f52e7bcf6f3b9c",
        "IPY_MODEL_fba2682373c84993989acc2e2157e65f",
        "IPY_MODEL_0b50691b70464c86a456081b2ad755a5",
        "IPY_MODEL_fa1f3ae1a3014748842054f664fa7e27",
        "IPY_MODEL_c2457c08c5414e66996e3755ab7ba9ea",
        "IPY_MODEL_cad27e82bc354be0ad00ee64206d1d92",
        "IPY_MODEL_1a36515d787a4240a06563893660e1b9"
       ],
       "layout": "IPY_MODEL_26810c63546347ab8a4f3c7e2927798b"
      }
     },
     "26810c63546347ab8a4f3c7e2927798b": {
      "model_module": "jupyter-js-widgets",
      "model_module_version": "~2.1.4",
      "model_name": "LayoutModel",
      "state": {
       "_model_module_version": "~2.1.4",
       "_view_module_version": "~2.1.4",
       "display": "flex",
       "width": "100%"
      }
     },
     "26c672be93fc45fbba3b32499788a522": {
      "model_module": "jupyter-js-widgets",
      "model_module_version": "~2.1.4",
      "model_name": "ButtonStyleModel",
      "state": {
       "_model_module_version": "~2.1.4",
       "_view_module_version": "~2.1.4"
      }
     },
     "2ae384e242d14949a013bee25373fa9f": {
      "model_module": "jupyter-js-widgets",
      "model_module_version": "~2.1.4",
      "model_name": "IntSliderModel",
      "state": {
       "_model_module_version": "~2.1.4",
       "_range": true,
       "_view_module_version": "~2.1.4",
       "continuous_update": false,
       "layout": "IPY_MODEL_fef2b5887c0c4328a72deaf95613f93f",
       "max": 1833,
       "readout": false,
       "slider_color": null,
       "value": [
        0,
        1833
       ]
      }
     },
     "301f6c4babfd4079a93607286200a715": {
      "model_module": "jupyter-js-widgets",
      "model_module_version": "~2.1.4",
      "model_name": "LayoutModel",
      "state": {
       "_model_module_version": "~2.1.4",
       "_view_module_version": "~2.1.4",
       "width": "300px"
      }
     },
     "35ddd8da46e345ffa74b6d7ab1287cfd": {
      "model_module": "jupyter-js-widgets",
      "model_module_version": "~2.1.4",
      "model_name": "LayoutModel",
      "state": {
       "_model_module_version": "~2.1.4",
       "_view_module_version": "~2.1.4",
       "width": "87px"
      }
     },
     "3ec6c400f19a40939700c07f4bd827e3": {
      "model_module": "jupyter-js-widgets",
      "model_module_version": "~2.1.4",
      "model_name": "LayoutModel",
      "state": {
       "_model_module_version": "~2.1.4",
       "_view_module_version": "~2.1.4",
       "width": "70px"
      }
     },
     "49f06b9696be4cfc976cfcd2c4b069a3": {
      "model_module": "jupyter-js-widgets",
      "model_module_version": "~2.1.4",
      "model_name": "LayoutModel",
      "state": {
       "_model_module_version": "~2.1.4",
       "_view_module_version": "~2.1.4",
       "width": "240px"
      }
     },
     "4c84571d5fd54b11ab0c52708630d52f": {
      "model_module": "jupyter-js-widgets",
      "model_module_version": "~2.1.4",
      "model_name": "LayoutModel",
      "state": {
       "_model_module_version": "~2.1.4",
       "_view_module_version": "~2.1.4",
       "width": "50px"
      }
     },
     "5275a4388c0149d1889236ad004fd039": {
      "model_module": "jupyter-js-widgets",
      "model_module_version": "~2.1.4",
      "model_name": "LayoutModel",
      "state": {
       "_model_module_version": "~2.1.4",
       "_view_module_version": "~2.1.4",
       "width": "70px"
      }
     },
     "56732f9cc0554f4789b0a3abed034d1b": {
      "model_module": "jupyter-js-widgets",
      "model_module_version": "~2.1.4",
      "model_name": "LabelModel",
      "state": {
       "_model_module_version": "~2.1.4",
       "_view_module_version": "~2.1.4",
       "layout": "IPY_MODEL_6bee7dcdaf2f4f15810ae60f89ef4907",
       "value": "from"
      }
     },
     "583537c0a2424f3fb87436cace17eb8e": {
      "model_module": "jupyter-js-widgets",
      "model_module_version": "~2.1.4",
      "model_name": "LayoutModel",
      "state": {
       "_model_module_version": "~2.1.4",
       "_view_module_version": "~2.1.4",
       "width": "36px"
      }
     },
     "5940e90734e74eb79fccf78210537cb6": {
      "model_module": "jupyter-js-widgets",
      "model_module_version": "~2.1.4",
      "model_name": "LayoutModel",
      "state": {
       "_model_module_version": "~2.1.4",
       "_view_module_version": "~2.1.4",
       "width": "25px"
      }
     },
     "5c43d59553b64108af4e3e275ee60e71": {
      "model_module": "jupyter-js-widgets",
      "model_module_version": "~2.1.4",
      "model_name": "LayoutModel",
      "state": {
       "_model_module_version": "~2.1.4",
       "_view_module_version": "~2.1.4",
       "width": "30px"
      }
     },
     "63c3fc49945b468c8e89e8e645859768": {
      "model_module": "jupyter-js-widgets",
      "model_module_version": "~2.1.4",
      "model_name": "TextModel",
      "state": {
       "_model_module_version": "~2.1.4",
       "_view_module_version": "~2.1.4",
       "layout": "IPY_MODEL_82ce8308cf924f3c9cf3043ddc7911cb",
       "placeholder": "Search by name, type etc."
      }
     },
     "64be683c2a394c198256f54b4a3f96f3": {
      "model_module": "jupyter-js-widgets",
      "model_module_version": "~2.1.4",
      "model_name": "LayoutModel",
      "state": {
       "_model_module_version": "~2.1.4",
       "_view_module_version": "~2.1.4",
       "width": "180px"
      }
     },
     "670444db3153410fa8ddd824c1edb012": {
      "model_module": "jupyter-js-widgets",
      "model_module_version": "~2.1.4",
      "model_name": "LayoutModel",
      "state": {
       "_model_module_version": "~2.1.4",
       "_view_module_version": "~2.1.4",
       "width": "150px"
      }
     },
     "673d1e857d794fc49a7b08c2eb7afa21": {
      "model_module": "jupyter-js-widgets",
      "model_module_version": "~2.1.4",
      "model_name": "ButtonModel",
      "state": {
       "_model_module_version": "~2.1.4",
       "_view_module_version": "~2.1.4",
       "button_style": "success",
       "description": "x",
       "layout": "IPY_MODEL_0a65d505003a40c0b60b3c6d45eeced5",
       "style": "IPY_MODEL_26c672be93fc45fbba3b32499788a522"
      }
     },
     "6bee7dcdaf2f4f15810ae60f89ef4907": {
      "model_module": "jupyter-js-widgets",
      "model_module_version": "~2.1.4",
      "model_name": "LayoutModel",
      "state": {
       "_model_module_version": "~2.1.4",
       "_view_module_version": "~2.1.4",
       "left": "10px",
       "width": "40px"
      }
     },
     "701cb47a453d40178f2fe95162194967": {
      "model_module": "jupyter-js-widgets",
      "model_module_version": "~2.1.4",
      "model_name": "LabelModel",
      "state": {
       "_model_module_version": "~2.1.4",
       "_view_module_version": "~2.1.4",
       "layout": "IPY_MODEL_fc627b83136a4ff4abba7ba52f704d72"
      }
     },
     "7e7cb1363c204ddbb9d6095d29173797": {
      "model_module": "jupyter-js-widgets",
      "model_module_version": "~2.1.4",
      "model_name": "LayoutModel",
      "state": {
       "_model_module_version": "~2.1.4",
       "_view_module_version": "~2.1.4",
       "width": "380px"
      }
     },
     "7f02d1262d44472792b32d66e43bc677": {
      "model_module": "jupyter-js-widgets",
      "model_module_version": "~2.1.4",
      "model_name": "LayoutModel",
      "state": {
       "_model_module_version": "~2.1.4",
       "_view_module_version": "~2.1.4",
       "width": "36px"
      }
     },
     "82ce8308cf924f3c9cf3043ddc7911cb": {
      "model_module": "jupyter-js-widgets",
      "model_module_version": "~2.1.4",
      "model_name": "LayoutModel",
      "state": {
       "_model_module_version": "~2.1.4",
       "_view_module_version": "~2.1.4",
       "width": "180px"
      }
     },
     "85bd159d8f4346c1a6082645b6e10976": {
      "model_module": "jupyter-js-widgets",
      "model_module_version": "~2.1.4",
      "model_name": "LayoutModel",
      "state": {
       "_model_module_version": "~2.1.4",
       "_view_module_version": "~2.1.4",
       "left": "8px",
       "width": "26px"
      }
     },
     "8a24e7de59074ccda01e1efe3c7ee95d": {
      "model_module": "jupyter-js-widgets",
      "model_module_version": "~2.1.4",
      "model_name": "LayoutModel",
      "state": {
       "_model_module_version": "~2.1.4",
       "_view_module_version": "~2.1.4",
       "width": "70px"
      }
     },
     "954b3ad4f00e4d93986c58579ed5baed": {
      "model_module": "jupyter-js-widgets",
      "model_module_version": "~2.1.4",
      "model_name": "LayoutModel",
      "state": {
       "_model_module_version": "~2.1.4",
       "_view_module_version": "~2.1.4",
       "left": "10px",
       "width": "40px"
      }
     },
     "9b12c32a5cb04b2cbf6366b7fdd10700": {
      "model_module": "jupyter-js-widgets",
      "model_module_version": "~2.1.4",
      "model_name": "TextModel",
      "state": {
       "_model_module_version": "~2.1.4",
       "_view_module_version": "~2.1.4",
       "layout": "IPY_MODEL_c459ebfe80f043b182636436385d4fb3",
       "value": "2017-04-18"
      }
     },
     "a06d0fe0d595498bbb0e30932386682d": {
      "model_module": "jupyter-js-widgets",
      "model_module_version": "~2.1.4",
      "model_name": "LayoutModel",
      "state": {
       "_model_module_version": "~2.1.4",
       "_view_module_version": "~2.1.4",
       "width": "240px"
      }
     },
     "a5fb45687251426aad303ea5b97adac7": {
      "model_module": "jupyter-js-widgets",
      "model_module_version": "~2.1.4",
      "model_name": "LabelModel",
      "state": {
       "_model_module_version": "~2.1.4",
       "_view_module_version": "~2.1.4",
       "layout": "IPY_MODEL_dc681bc2406c4712b958220cd85f5a39",
       "value": "Search"
      }
     },
     "a647776bd9b54e2283a8a0e3dbcfa2e4": {
      "model_module": "jupyter-js-widgets",
      "model_module_version": "~2.1.4",
      "model_name": "LabelModel",
      "state": {
       "_model_module_version": "~2.1.4",
       "_view_module_version": "~2.1.4",
       "layout": "IPY_MODEL_e70328df828741018844cbf8b19031f7",
       "value": "to"
      }
     },
     "a7eda56d99c145b9b4e6e8158704dd60": {
      "model_module": "jupyter-js-widgets",
      "model_module_version": "~2.1.4",
      "model_name": "LayoutModel",
      "state": {
       "_model_module_version": "~2.1.4",
       "_view_module_version": "~2.1.4",
       "width": "87px"
      }
     },
     "abafde1a942547c8a77d0991673e6aef": {
      "model_module": "jupyter-js-widgets",
      "model_module_version": "~2.1.4",
      "model_name": "LayoutModel",
      "state": {
       "_model_module_version": "~2.1.4",
       "_view_module_version": "~2.1.4",
       "width": "30px"
      }
     },
     "afd6ec883ab1475fbb803810a07f0b18": {
      "model_module": "jupyter-js-widgets",
      "model_module_version": "~2.1.4",
      "model_name": "LayoutModel",
      "state": {
       "_model_module_version": "~2.1.4",
       "_view_module_version": "~2.1.4",
       "left": "30px",
       "width": "115px"
      }
     },
     "bf84561a6d2c4550a4f52e7bcf6f3b9c": {
      "model_module": "jupyter-js-widgets",
      "model_module_version": "~2.1.4",
      "model_name": "LabelModel",
      "state": {
       "_model_module_version": "~2.1.4",
       "_view_module_version": "~2.1.4",
       "layout": "IPY_MODEL_8a24e7de59074ccda01e1efe3c7ee95d",
       "value": "Frequency"
      }
     },
     "c0e7266836eb4a24afbbdb76203735a3": {
      "model_module": "jupyter-js-widgets",
      "model_module_version": "~2.1.4",
      "model_name": "LayoutModel",
      "state": {
       "_model_module_version": "~2.1.4",
       "_view_module_version": "~2.1.4",
       "width": "150px"
      }
     },
     "c2457c08c5414e66996e3755ab7ba9ea": {
      "model_module": "jupyter-js-widgets",
      "model_module_version": "~2.1.4",
      "model_name": "LabelModel",
      "state": {
       "_model_module_version": "~2.1.4",
       "_view_module_version": "~2.1.4",
       "layout": "IPY_MODEL_583537c0a2424f3fb87436cace17eb8e"
      }
     },
     "c459ebfe80f043b182636436385d4fb3": {
      "model_module": "jupyter-js-widgets",
      "model_module_version": "~2.1.4",
      "model_name": "LayoutModel",
      "state": {
       "_model_module_version": "~2.1.4",
       "_view_module_version": "~2.1.4",
       "width": "87px"
      }
     },
     "c66e425d9de549f584ae55f51d51849e": {
      "model_module": "jupyter-js-widgets",
      "model_module_version": "~2.1.4",
      "model_name": "LayoutModel",
      "state": {
       "_model_module_version": "~2.1.4",
       "_view_module_version": "~2.1.4",
       "width": "87px"
      }
     },
     "cad27e82bc354be0ad00ee64206d1d92": {
      "model_module": "jupyter-js-widgets",
      "model_module_version": "~2.1.4",
      "model_name": "CheckboxModel",
      "state": {
       "_model_module_version": "~2.1.4",
       "_view_module_version": "~2.1.4",
       "disabled": false,
       "layout": "IPY_MODEL_abafde1a942547c8a77d0991673e6aef",
       "value": true
      }
     },
     "dc681bc2406c4712b958220cd85f5a39": {
      "model_module": "jupyter-js-widgets",
      "model_module_version": "~2.1.4",
      "model_name": "LayoutModel",
      "state": {
       "_model_module_version": "~2.1.4",
       "_view_module_version": "~2.1.4",
       "width": "50px"
      }
     },
     "e0f66b0ebb3b4bdaad8306ef1986df11": {
      "model_module": "jupyter-js-widgets",
      "model_module_version": "~2.1.4",
      "model_name": "LayoutModel",
      "state": {
       "_model_module_version": "~2.1.4",
       "_view_module_version": "~2.1.4",
       "left": "30px",
       "width": "115px"
      }
     },
     "e70328df828741018844cbf8b19031f7": {
      "model_module": "jupyter-js-widgets",
      "model_module_version": "~2.1.4",
      "model_name": "LayoutModel",
      "state": {
       "_model_module_version": "~2.1.4",
       "_view_module_version": "~2.1.4",
       "left": "8px",
       "width": "26px"
      }
     },
     "ea418ecec48d443e993a65eb7c64296b": {
      "model_module": "jupyter-js-widgets",
      "model_module_version": "~2.1.4",
      "model_name": "BoxModel",
      "state": {
       "_model_module_version": "~2.1.4",
       "_view_module_version": "~2.1.4",
       "children": [
        "IPY_MODEL_1d9ed6fdc9f74e45b32ae96318ad6fc7",
        "IPY_MODEL_2ae384e242d14949a013bee25373fa9f",
        "IPY_MODEL_56732f9cc0554f4789b0a3abed034d1b",
        "IPY_MODEL_19912b604507475c8cd36246a8598d43",
        "IPY_MODEL_a647776bd9b54e2283a8a0e3dbcfa2e4",
        "IPY_MODEL_9b12c32a5cb04b2cbf6366b7fdd10700",
        "IPY_MODEL_701cb47a453d40178f2fe95162194967",
        "IPY_MODEL_63c3fc49945b468c8e89e8e645859768",
        "IPY_MODEL_673d1e857d794fc49a7b08c2eb7afa21"
       ],
       "layout": "IPY_MODEL_26810c63546347ab8a4f3c7e2927798b"
      }
     },
     "edd84f10cde845f4acc91e696ed059bf": {
      "model_module": "jupyter-js-widgets",
      "model_module_version": "~2.1.4",
      "model_name": "LayoutModel",
      "state": {
       "_model_module_version": "~2.1.4",
       "_view_module_version": "~2.1.4",
       "width": "300px"
      }
     },
     "fa1f3ae1a3014748842054f664fa7e27": {
      "model_module": "jupyter-js-widgets",
      "model_module_version": "~2.1.4",
      "model_name": "IntSliderModel",
      "state": {
       "_model_module_version": "~2.1.4",
       "_view_module_version": "~2.1.4",
       "continuous_update": false,
       "layout": "IPY_MODEL_49f06b9696be4cfc976cfcd2c4b069a3",
       "max": 1,
       "min": -1,
       "style": "IPY_MODEL_1d32af5fdc004915a3af47a9ba71ed52"
      }
     },
     "fba2682373c84993989acc2e2157e65f": {
      "model_module": "jupyter-js-widgets",
      "model_module_version": "~2.1.4",
      "model_name": "SelectionSliderModel",
      "state": {
       "_model_module_version": "~2.1.4",
       "_options_labels": [
        "1 day",
        "2 days",
        "3 days",
        "4 days",
        "5 days",
        "week",
        "semi-month",
        "month",
        "quarter",
        "quarter-end",
        "year",
        "year-end"
       ],
       "_view_module_version": "~2.1.4",
       "continuous_update": false,
       "layout": "IPY_MODEL_edd84f10cde845f4acc91e696ed059bf",
       "value": "week"
      }
     },
     "fc627b83136a4ff4abba7ba52f704d72": {
      "model_module": "jupyter-js-widgets",
      "model_module_version": "~2.1.4",
      "model_name": "LayoutModel",
      "state": {
       "_model_module_version": "~2.1.4",
       "_view_module_version": "~2.1.4",
       "width": "70px"
      }
     },
     "fef2b5887c0c4328a72deaf95613f93f": {
      "model_module": "jupyter-js-widgets",
      "model_module_version": "~2.1.4",
      "model_name": "LayoutModel",
      "state": {
       "_model_module_version": "~2.1.4",
       "_view_module_version": "~2.1.4",
       "width": "380px"
      }
     }
    },
    "version_major": 1,
    "version_minor": 0
   }
  }
 },
 "nbformat": 4,
 "nbformat_minor": 2
}
